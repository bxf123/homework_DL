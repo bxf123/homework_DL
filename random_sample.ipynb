{
 "cells": [
  {
   "cell_type": "code",
   "execution_count": 8,
   "id": "bf16205b",
   "metadata": {},
   "outputs": [
    {
     "name": "stdout",
     "output_type": "stream",
     "text": [
      "1.8.0\n",
      "cuda\n"
     ]
    }
   ],
   "source": [
    "import torch\n",
    "import random\n",
    "import zipfile\n",
    "device= torch.device(\"cuda\" if torch.cuda.is_available() else \"cpu\")\n",
    "print(torch.__version__)\n",
    "print(device)"
   ]
  },
  {
   "cell_type": "code",
   "execution_count": 9,
   "id": "3eb5f797",
   "metadata": {},
   "outputs": [
    {
     "data": {
      "text/plain": [
       "'想要有直升机\\n想要和你飞到宇宙去\\n想要和你融化在一起\\n融化在宇宙里\\n我每天每天每'"
      ]
     },
     "execution_count": 9,
     "metadata": {},
     "output_type": "execute_result"
    }
   ],
   "source": [
    "with zipfile.ZipFile(\"../../data/jaychou_lyrics.txt.zip\") as zin:#读取zip文件\n",
    "    with zin.open('jaychou_lyrics.txt')as f:\n",
    "        corpus_chars = f.read().decode()\n",
    "corpus_chars[:40]        \n",
    "    "
   ]
  },
  {
   "cell_type": "code",
   "execution_count": 10,
   "id": "09e9475d",
   "metadata": {},
   "outputs": [],
   "source": [
    "corpus_chars=corpus_chars.replace(\"\\n\",\" \").replace(\"\\r\",\"\")#去掉\\n,\\r\n",
    "corpus_chars=corpus_chars[0:10000]\n"
   ]
  },
  {
   "cell_type": "markdown",
   "id": "c0885df6",
   "metadata": {},
   "source": [
    "建立索引"
   ]
  },
  {
   "cell_type": "code",
   "execution_count": 11,
   "id": "b7cb77e1",
   "metadata": {},
   "outputs": [],
   "source": [
    "idx_to_char=list(set(corpus_chars))\n",
    "char_to_idx=dict([(char,i)for i,char in enumerate(idx_to_char)])\n",
    "vocab_size=len(char_to_idx)\n"
   ]
  },
  {
   "cell_type": "code",
   "execution_count": 13,
   "id": "b4f0e1a8",
   "metadata": {},
   "outputs": [
    {
     "name": "stdout",
     "output_type": "stream",
     "text": [
      "文字序列: 想要有直升机 想要和你飞到宇宙去 想要和\n",
      "标号序列: [42, 743, 270, 37, 879, 336, 996, 42, 743, 774, 601, 921, 607, 561, 867, 387, 996, 42, 743, 774]\n"
     ]
    }
   ],
   "source": [
    "corpus_indices=[char_to_idx[char] for char in corpus_chars]\n",
    "sample=corpus_indices[0:20]\n",
    "print(\"文字序列:\",''.join([idx_to_char[idx] for idx in sample]))\n",
    "print(\"标号序列:\",corpus_indices[0:20])"
   ]
  },
  {
   "cell_type": "code",
   "execution_count": 14,
   "id": "082721f6",
   "metadata": {},
   "outputs": [],
   "source": [
    "def data_iter_random(corpus_indices,batch_size,num_steps,device=None):\n",
    "    num_examples=(len(corpus_indices)-1)//num_steps\n",
    "    epoch_size=num_examples//batch_size\n",
    "    example_indices=list(range(num_examples))\n",
    "    random.shuffle(example_indices)\n",
    "    \n",
    "    def _data(pos):\n",
    "        return corpus_indices[pos:pos+num_steps]\n",
    "    if device is None:\n",
    "        device=torch.device(\"cuda\" if torch.cuda.is_available() else \"cpu\")\n",
    "    \n",
    "    for i in range(epoch_size):\n",
    "        i=i*batch_size\n",
    "        batch_indices=example_indices[i:i+batch_size]\n",
    "        X = [_data(j * num_steps) for j in batch_indices]\n",
    "        Y = [_data(j * num_steps + 1) for j in batch_indices]\n",
    "        yield torch.tensor(X, dtype=torch.float32, device=device), torch.tensor(Y, dtype=torch.float32, device=device)"
   ]
  },
  {
   "cell_type": "markdown",
   "id": "d67afa65",
   "metadata": {},
   "source": [
    "随机采样"
   ]
  },
  {
   "cell_type": "code",
   "execution_count": 15,
   "id": "6bd1f401",
   "metadata": {},
   "outputs": [],
   "source": [
    "# 本函数已保存在d2lzh_pytorch包中方便以后使用\n",
    "def data_iter_random(corpus_indices, batch_size, num_steps, device=None):\n",
    "    # 减1是因为输出的索引x是相应输入的索引y加1\n",
    "    num_examples = (len(corpus_indices) - 1) // num_steps\n",
    "    epoch_size = num_examples // batch_size\n",
    "    example_indices = list(range(num_examples))\n",
    "    random.shuffle(example_indices)\n",
    "\n",
    "    # 返回从pos开始的长为num_steps的序列\n",
    "    def _data(pos):\n",
    "        return corpus_indices[pos: pos + num_steps]\n",
    "    if device is None:\n",
    "        device = torch.device('cuda' if torch.cuda.is_available() else 'cpu')\n",
    "    \n",
    "    for i in range(epoch_size):\n",
    "        # 每次读取batch_size个随机样本\n",
    "        i = i * batch_size\n",
    "        batch_indices = example_indices[i: i + batch_size]\n",
    "        X = [_data(j * num_steps) for j in batch_indices]\n",
    "        Y = [_data(j * num_steps + 1) for j in batch_indices]\n",
    "        yield torch.tensor(X, dtype=torch.float32, device=device), torch.tensor(Y, dtype=torch.float32, device=device)"
   ]
  },
  {
   "cell_type": "code",
   "execution_count": 16,
   "id": "a1551120",
   "metadata": {},
   "outputs": [
    {
     "name": "stdout",
     "output_type": "stream",
     "text": [
      "X:  tensor([[18., 19., 20., 21., 22., 23.],\n",
      "        [12., 13., 14., 15., 16., 17.]], device='cuda:0') \n",
      "Y: tensor([[19., 20., 21., 22., 23., 24.],\n",
      "        [13., 14., 15., 16., 17., 18.]], device='cuda:0') \n",
      "\n",
      "X:  tensor([[ 6.,  7.,  8.,  9., 10., 11.],\n",
      "        [ 0.,  1.,  2.,  3.,  4.,  5.]], device='cuda:0') \n",
      "Y: tensor([[ 7.,  8.,  9., 10., 11., 12.],\n",
      "        [ 1.,  2.,  3.,  4.,  5.,  6.]], device='cuda:0') \n",
      "\n"
     ]
    }
   ],
   "source": [
    "my_seq = list(range(30))\n",
    "for X, Y in data_iter_random(my_seq, batch_size=2, num_steps=6):\n",
    "    print('X: ', X, '\\nY:', Y, '\\n')"
   ]
  },
  {
   "cell_type": "code",
   "execution_count": null,
   "id": "b3bc9a0a",
   "metadata": {},
   "outputs": [],
   "source": []
  }
 ],
 "metadata": {
  "kernelspec": {
   "display_name": "Python 3",
   "language": "python",
   "name": "python3"
  },
  "language_info": {
   "codemirror_mode": {
    "name": "ipython",
    "version": 3
   },
   "file_extension": ".py",
   "mimetype": "text/x-python",
   "name": "python",
   "nbconvert_exporter": "python",
   "pygments_lexer": "ipython3",
   "version": "3.7.10"
  }
 },
 "nbformat": 4,
 "nbformat_minor": 5
}
